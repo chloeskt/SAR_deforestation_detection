{
 "cells": [
  {
   "cell_type": "code",
   "execution_count": 2,
   "metadata": {},
   "outputs": [],
   "source": [
    "import sys\n",
    "import os\n",
    "from pathlib import Path\n",
    "\n",
    "sys.path.append(Path.cwd().parent.joinpath(\"source\").as_posix())\n",
    "\n",
    "from osgeo import gdal\n",
    "import numpy as np\n",
    "import matplotlib.pyplot as plt\n",
    "from urllib.request import urlopen\n",
    "from PIL import Image\n",
    "import mvalab\n",
    "import utils\n",
    "import random\n",
    "random.seed(1)\n",
    "\n",
    "def read_tiff(chemin):\n",
    "    dataset = gdal.Open(chemin)\n",
    "    for x in range(1, dataset.RasterCount + 1):\n",
    "        band = dataset.GetRasterBand(x)\n",
    "        array = band.ReadAsArray()\n",
    "    return array.astype(np.float64)\n",
    "\n",
    "def plot_sar(ima):\n",
    "    plt.figure(figsize=(12,12))\n",
    "    t = np.mean(ima)+3*np.std(ima)\n",
    "    plt.imshow(np.clip(ima,0,t),cmap='gray')\n",
    "    plt.show()\n",
    "\n",
    "def save_tiff(img, dir, path):\n",
    "    im = Image.fromarray(img)\n",
    "    save_path = os.path.join(dir, path)\n",
    "    print(f\"Saving image at {save_path}\")\n",
    "    im.save(save_path)"
   ]
  },
  {
   "cell_type": "code",
   "execution_count": 12,
   "metadata": {},
   "outputs": [],
   "source": [
    "dir = '../images/'\n",
    "path = 'rcr_s1a_18MUU_vv_ASC_120_20160124txxxxxx.tif'\n",
    "x = 5000\n",
    "# rcr = read_tiff('../images/rcr_s1a_18MUU_vv_ASC_120_20160124txxxxxx.tif')\n",
    "im = read_tiff('../images/s1a_18MUU_vv_ASC_120_20150222txxxxxx.tif')\n",
    "# im = read_tiff('../images/s1a_18MUU_vv_ASC_120_20150222txxxxxx.tif')[x:x+1000,x:x+1000]\n",
    "index_shadows = read_tiff('../images/detected_shadows_image_indexes.tif')\n",
    "epsilon = 1e-7"
   ]
  },
  {
   "cell_type": "code",
   "execution_count": 13,
   "metadata": {},
   "outputs": [
    {
     "name": "stdout",
     "output_type": "stream",
     "text": [
      "0.2693233016465355 0.28966151507487664\n"
     ]
    }
   ],
   "source": [
    "print(np.mean(im), np.std(im))"
   ]
  },
  {
   "cell_type": "code",
   "execution_count": 11,
   "metadata": {},
   "outputs": [
    {
     "name": "stdout",
     "output_type": "stream",
     "text": [
      "3.707878828048706\n"
     ]
    },
    {
     "data": {
      "image/png": "[encoded data removed]",
      "text/plain": [
       "<Figure size 432x288 with 1 Axes>"
      ]
     },
     "metadata": {
      "needs_background": "light"
     },
     "output_type": "display_data"
    }
   ],
   "source": [
    "plt.hist(im.flatten(), bins=1000)\n",
    "print(np.max(im))"
   ]
  },
  {
   "cell_type": "code",
   "execution_count": 9,
   "metadata": {},
   "outputs": [
    {
     "name": "stdout",
     "output_type": "stream",
     "text": [
      "625331\n",
      "Saving image at ../images/im_test.tif\n"
     ]
    }
   ],
   "source": [
    "print(len(np.where(im != 0)[0]))\n",
    "\n",
    "save_tiff(im != 0, dir, 'im_test.tif')"
   ]
  },
  {
   "cell_type": "code",
   "execution_count": 5,
   "metadata": {},
   "outputs": [
    {
     "name": "stdout",
     "output_type": "stream",
     "text": [
      "[[-0.95658359 -0.29060868 -1.56694951  0.02183978  1.15015755  2.04135903\n",
      "  -1.08159878 -1.43778671  0.74490108  0.75825541]\n",
      " [-1.91575639 -3.17398538 -1.29321086  0.40471582  0.40901659 -0.26923904\n",
      "  -1.02871121 -0.69979929  0.53739375  1.62913631]\n",
      " [ 1.14930216 -1.72039622  1.00105801  0.97772085  0.50596013 -0.74968016\n",
      "  -0.77859213  0.65321791  2.32894103  1.16277457]\n",
      " [ 1.68346555  1.40603507  2.2437436   1.37157079  1.0325866  -1.80677755\n",
      "  -1.68065077 -0.25048962  1.67812586  0.99386947]\n",
      " [ 1.72912309  1.79797452  3.64551204  0.22330107  0.35284426  0.81658755\n",
      "  -0.54121596 -0.5900565   1.0236713   2.70362896]\n",
      " [-0.29250334 -1.28678552  0.76454298  2.27988347  0.12754462  1.36520798\n",
      "   1.46103023 -0.0160973   0.35254497  3.46756959]\n",
      " [-1.91663529 -1.5976703  -1.35376317  1.0743195   1.1904323   1.872068\n",
      "   1.8737239   1.44580097  1.17360064  0.49382362]\n",
      " [ 1.33812032  0.51345294 -1.03001671  2.18917905  2.92735124  2.45185521\n",
      "   0.76822301  0.11082315 -0.38348086 -2.1631858 ]\n",
      " [-1.56323112  0.67153643  1.61415888  2.80293797  3.04538371  0.97370863\n",
      "   0.22219592  0.14637394 -0.27043781 -1.31484413]\n",
      " [-0.53905696  0.86110451  2.47930667  3.25796802 -0.47576266  0.18019297\n",
      "  -0.83192217 -1.03433593 -1.2361537  -3.49913976]]\n"
     ]
    }
   ],
   "source": [
    "rcr_log = 10 * np.log10(rcr + epsilon)\n",
    "# rcr_log += np.min(rcr_log)\n",
    "# save_tiff(rcr_log, dir, \"log_image.tiff\")\n",
    "print(rcr_log[:10,:10])"
   ]
  },
  {
   "cell_type": "code",
   "execution_count": 3,
   "metadata": {},
   "outputs": [
    {
     "name": "stdout",
     "output_type": "stream",
     "text": [
      "24.0\n",
      "(10980, 10980, 3) float64 [0. 0. 0.]\n"
     ]
    }
   ],
   "source": [
    "import seaborn as sn\n",
    "print(np.max(index_shadows))\n",
    "colors = np.array([[0,0,0]] + sn.color_palette(\"rocket\",n_colors=int(np.max(index_shadows) +1)))\n",
    "\n",
    "color_index_shadows = colors[index_shadows.astype(int) + 1]\n",
    "# color_index_shadows = np.take(colors, index_shadows.astype(int))\n",
    "print(color_index_shadows.shape, color_index_shadows.dtype, color_index_shadows[0,0])\n",
    "# save_tiff(color_index_shadows, dir, \"color_index_shadows.tiff\")\n",
    "plt.imsave( '../images/colored_index.png', color_index_shadows)\n"
   ]
  },
  {
   "cell_type": "code",
   "execution_count": null,
   "metadata": {},
   "outputs": [
    {
     "data": {
      "text/html": [
       "<svg  width=\"1375\" height=\"55\"><rect x=\"0\" y=\"0\" width=\"55\" height=\"55\" style=\"fill:#0e0b22;stroke-width:2;stroke:rgb(255,255,255)\"/><rect x=\"55\" y=\"0\" width=\"55\" height=\"55\" style=\"fill:#1d112c;stroke-width:2;stroke:rgb(255,255,255)\"/><rect x=\"110\" y=\"0\" width=\"55\" height=\"55\" style=\"fill:#2b1637;stroke-width:2;stroke:rgb(255,255,255)\"/><rect x=\"165\" y=\"0\" width=\"55\" height=\"55\" style=\"fill:#3a1a41;stroke-width:2;stroke:rgb(255,255,255)\"/><rect x=\"220\" y=\"0\" width=\"55\" height=\"55\" style=\"fill:#491d49;stroke-width:2;stroke:rgb(255,255,255)\"/><rect x=\"275\" y=\"0\" width=\"55\" height=\"55\" style=\"fill:#591e50;stroke-width:2;stroke:rgb(255,255,255)\"/><rect x=\"330\" y=\"0\" width=\"55\" height=\"55\" style=\"fill:#681f55;stroke-width:2;stroke:rgb(255,255,255)\"/><rect x=\"385\" y=\"0\" width=\"55\" height=\"55\" style=\"fill:#781f59;stroke-width:2;stroke:rgb(255,255,255)\"/><rect x=\"440\" y=\"0\" width=\"55\" height=\"55\" style=\"fill:#891e5b;stroke-width:2;stroke:rgb(255,255,255)\"/><rect x=\"495\" y=\"0\" width=\"55\" height=\"55\" style=\"fill:#9a1b5b;stroke-width:2;stroke:rgb(255,255,255)\"/><rect x=\"550\" y=\"0\" width=\"55\" height=\"55\" style=\"fill:#ab185a;stroke-width:2;stroke:rgb(255,255,255)\"/><rect x=\"605\" y=\"0\" width=\"55\" height=\"55\" style=\"fill:#bc1656;stroke-width:2;stroke:rgb(255,255,255)\"/><rect x=\"660\" y=\"0\" width=\"55\" height=\"55\" style=\"fill:#cb1b4f;stroke-width:2;stroke:rgb(255,255,255)\"/><rect x=\"715\" y=\"0\" width=\"55\" height=\"55\" style=\"fill:#d72549;stroke-width:2;stroke:rgb(255,255,255)\"/><rect x=\"770\" y=\"0\" width=\"55\" height=\"55\" style=\"fill:#e23442;stroke-width:2;stroke:rgb(255,255,255)\"/><rect x=\"825\" y=\"0\" width=\"55\" height=\"55\" style=\"fill:#eb463e;stroke-width:2;stroke:rgb(255,255,255)\"/><rect x=\"880\" y=\"0\" width=\"55\" height=\"55\" style=\"fill:#ef5a41;stroke-width:2;stroke:rgb(255,255,255)\"/><rect x=\"935\" y=\"0\" width=\"55\" height=\"55\" style=\"fill:#f26d4b;stroke-width:2;stroke:rgb(255,255,255)\"/><rect x=\"990\" y=\"0\" width=\"55\" height=\"55\" style=\"fill:#f47f58;stroke-width:2;stroke:rgb(255,255,255)\"/><rect x=\"1045\" y=\"0\" width=\"55\" height=\"55\" style=\"fill:#f58f66;stroke-width:2;stroke:rgb(255,255,255)\"/><rect x=\"1100\" y=\"0\" width=\"55\" height=\"55\" style=\"fill:#f6a077;stroke-width:2;stroke:rgb(255,255,255)\"/><rect x=\"1155\" y=\"0\" width=\"55\" height=\"55\" style=\"fill:#f6b089;stroke-width:2;stroke:rgb(255,255,255)\"/><rect x=\"1210\" y=\"0\" width=\"55\" height=\"55\" style=\"fill:#f6bf9d;stroke-width:2;stroke:rgb(255,255,255)\"/><rect x=\"1265\" y=\"0\" width=\"55\" height=\"55\" style=\"fill:#f7cfb3;stroke-width:2;stroke:rgb(255,255,255)\"/><rect x=\"1320\" y=\"0\" width=\"55\" height=\"55\" style=\"fill:#f9ddc9;stroke-width:2;stroke:rgb(255,255,255)\"/></svg>"
      ],
      "text/plain": [
       "[(0.05611171, 0.04224835, 0.13411624),\n",
       " (0.1125315, 0.06742194, 0.17414848),\n",
       " (0.16915387, 0.08682996, 0.21498104),\n",
       " (0.22741085, 0.10140876, 0.25340813),\n",
       " (0.2875374, 0.11191896, 0.28660853),\n",
       " (0.34940101, 0.11863987, 0.3138355),\n",
       " (0.40642019, 0.12151801, 0.33288464),\n",
       " (0.47114798, 0.12098721, 0.34787978),\n",
       " (0.53726173, 0.11587369, 0.35642903),\n",
       " (0.60444226, 0.10573912, 0.35820487),\n",
       " (0.67159578, 0.09306598, 0.35159077),\n",
       " (0.73669146, 0.08704683, 0.33543669),\n",
       " (0.7965014, 0.10506637, 0.31063031),\n",
       " (0.84335441, 0.14556683, 0.28480819),\n",
       " (0.88731387, 0.20469941, 0.25769539),\n",
       " (0.91978131, 0.27526191, 0.24245973),\n",
       " (0.93899289, 0.35250734, 0.25452808),\n",
       " (0.95001704, 0.42771398, 0.29244728),\n",
       " (0.95681685, 0.49882008, 0.34555431),\n",
       " (0.96077819, 0.55997184, 0.39941173),\n",
       " (0.96337949, 0.6255736, 0.46511271),\n",
       " (0.96479861, 0.68910113, 0.53756026),\n",
       " (0.96632832, 0.75055966, 0.61696136),\n",
       " (0.9698028, 0.80981139, 0.70252255),\n",
       " (0.97501782, 0.86821321, 0.78871034)]"
      ]
     },
     "execution_count": 39,
     "metadata": {},
     "output_type": "execute_result"
    }
   ],
   "source": [
    "sn.color_palette(\"rocket\", n_colors=int(np.max(index_shadows) +1))"
   ]
  },
  {
   "cell_type": "code",
   "execution_count": 11,
   "metadata": {},
   "outputs": [
    {
     "name": "stdout",
     "output_type": "stream",
     "text": [
      "B02\n"
     ]
    },
    {
     "name": "stderr",
     "output_type": "stream",
     "text": [
      "/usr/lib/python3.10/site-packages/PIL/Image.py:2896: DecompressionBombWarning: Image size (120560400 pixels) exceeds limit of 89478485 pixels, could be decompression bomb DOS attack.\n",
      "  warnings.warn(\n"
     ]
    },
    {
     "name": "stdout",
     "output_type": "stream",
     "text": [
      "(10980, 10980)\n",
      "B03\n",
      "(10980, 10980)\n",
      "B04\n",
      "(10980, 10980)\n"
     ]
    }
   ],
   "source": [
    "def simple_equalization_8bit(im, percentiles=5):\n",
    "    ''' im is a numpy array\n",
    "        returns a numpy array\n",
    "    '''\n",
    "\n",
    "    ###     <<< CODE HERE >>>\n",
    "    p, P = np.percentile(im, percentiles), np.percentile(im, 100 - percentiles)\n",
    "    return np.array(np.clip((im-p) / (P-p) * 255, 0,255),dtype=int)  # return equalized image\n",
    "\n",
    "def get_sentinel2_color_8bit(basefilename,  percentiles=5):\n",
    "    ''' basefilename to store the bands:  basename+BAND+'.tif'\n",
    "        returns a numpy array of the RGB image (height, width, channels)\n",
    "    '''\n",
    "    bands = ['B02', 'B03', 'B04']    # SENTINEL2 R,G,B BANDS\n",
    "\n",
    "    # read, equalize, and stack all the channels\n",
    "    out = np.zeros((10980,10980,3))\n",
    "    for i,b in enumerate(bands):\n",
    "        print(b)\n",
    "        im = plt.imread('{}_{}.jp2'.format(basefilename, b))\n",
    "        im = simple_equalization_8bit(im, percentiles)\n",
    "        print(im.shape)\n",
    "        out[:,:,i] = im\n",
    "        \n",
    "    return out.astype(np.uint8)\n",
    "\n",
    "\n",
    "basename = \"/home/soudini/storage/SAR_images/couleur/S2B_MSIL1C_20180921T152629_N0206_R025_T18MUU_20180921T204438.SAFE/GRANULE/L1C_T18MUU_A008059_20180921T152653/IMG_DATA/T18MUU_20180921T152629\"\n",
    "out_folder = \"/home/soudini/storage/SAR_images/couleur/rgb/\"\n",
    "# generate the RGB image\n",
    "RGBout = get_sentinel2_color_8bit(basename)\n",
    "\n",
    "# Writes RGBout in 'rgb_RGB.tif' copying geolocation metadata from 'rgb_B03.tif',\n",
    "# which has been written by    get_sentinel2_color_8bit\n",
    "# utils.writeGTIFF(RGBout[:,:,0:3], basename+'_RGB.tif', basename+'_B03.tif')\n",
    "\n",
    "# display RGBout\n",
    "# vistools.display_imshow(RGBout[:,:,0:3], figsize=(10,10))\n",
    "plt.imsave(os.path.join(out_folder, 'out.png'),RGBout)"
   ]
  }
 ],
 "metadata": {
  "interpreter": {
   "hash": "31f2aee4e71d21fbe5cf8b01ff0e069b9275f58929596ceb00d14d90e3e16cd6"
  },
  "kernelspec": {
   "display_name": "Python 3.9.2 64-bit",
   "language": "python",
   "name": "python3"
  },
  "language_info": {
   "codemirror_mode": {
    "name": "ipython",
    "version": 3
   },
   "file_extension": ".py",
   "mimetype": "text/x-python",
   "name": "python",
   "nbconvert_exporter": "python",
   "pygments_lexer": "ipython3",
   "version": "3.10.2"
  },
  "orig_nbformat": 4
 },
 "nbformat": 4,
 "nbformat_minor": 2
}
