{
 "cells": [
  {
   "cell_type": "code",
   "execution_count": 12,
   "metadata": {},
   "outputs": [],
   "source": [
    "import numpy as np\n",
    "import cv2 as cv\n",
    "import matplotlib.pyplot as plt\n",
    "import cv2 as cv\n",
    "import numpy as np\n",
    "import argparse\n",
    "import random as rng\n",
    "from tqdm import tqdm\n",
    "im =cv.imread(\"../out.png\", cv.CV_8UC1)\n",
    "\n",
    "cv.imshow('test', im)\n",
    "cv.waitKey(0)\n",
    "cv.destroyAllWindows()"
   ]
  },
  {
   "cell_type": "code",
   "execution_count": null,
   "metadata": {},
   "outputs": [],
   "source": [
    "\n",
    "# # Find contours\n",
    "# contours, _ = cv.findContours(im, cv.RETR_TREE, cv.CHAIN_APPROX_SIMPLE)\n",
    "# # Find the convex hull object for each contour\n",
    "# hull_list = []\n",
    "# for i in range(len(contours)):\n",
    "#     hull = cv.convexHull(contours[i])\n",
    "#     hull_list.append(hull)\n",
    "# # Draw contours + hull results\n",
    "# drawing = np.zeros((im.shape[0], im.shape[1], 3), dtype=np.uint8)\n",
    "# for i in range(len(contours)):\n",
    "#     color = (rng.randint(0,256), rng.randint(0,256), rng.randint(0,256))\n",
    "#     cv.drawContours(drawing, contours, i, color)\n",
    "#     cv.drawContours(drawing, hull_list, i, color)\n",
    "# # Show in a window\n",
    "# cv.imshow('Contours', drawing)\n"
   ]
  },
  {
   "cell_type": "code",
   "execution_count": 17,
   "metadata": {},
   "outputs": [
    {
     "name": "stdout",
     "output_type": "stream",
     "text": [
      "[[0. 0. 0. ... 0. 0. 0.]\n",
      " [0. 0. 0. ... 0. 0. 0.]\n",
      " [0. 0. 0. ... 0. 0. 0.]\n",
      " ...\n",
      " [0. 0. 0. ... 0. 0. 0.]\n",
      " [0. 0. 0. ... 0. 0. 0.]\n",
      " [0. 0. 0. ... 0. 0. 0.]]\n"
     ]
    },
    {
     "name": "stderr",
     "output_type": "stream",
     "text": [
      "100%|██████████| 500/500 [00:00<00:00, 3108.92it/s]\n"
     ]
    },
    {
     "data": {
      "text/plain": [
       "<matplotlib.image.AxesImage at 0x7f6e7a16ef50>"
      ]
     },
     "execution_count": 17,
     "metadata": {},
     "output_type": "execute_result"
    }
   ],
   "source": [
    "%matplotlib tk\n",
    "mat = np.load('../out.npy')\n",
    "print(mat)\n",
    "\n",
    "TRACES_MAX_LENGTH = 20\n",
    "\n",
    "out = np.zeros_like(mat)\n",
    "traces_remaining = 0\n",
    "\n",
    "\n",
    "for i in tqdm(range(mat.shape[0])):\n",
    "    j = 0\n",
    "    while j < mat.shape[1]:\n",
    "        if mat[i,j] == 1:\n",
    "            indices = np.where(mat[i,j:j+TRACES_MAX_LENGTH] == 2)[0]\n",
    "            if len(indices) !=0:\n",
    "                stop = np.max(indices)\n",
    "                out[i,j:j+stop] = 1\n",
    "                j += stop\n",
    "        j+=1\n",
    "    \n",
    "\n",
    "plt.imshow(out)"
   ]
  }
 ],
 "metadata": {
  "interpreter": {
   "hash": "31f2aee4e71d21fbe5cf8b01ff0e069b9275f58929596ceb00d14d90e3e16cd6"
  },
  "kernelspec": {
   "display_name": "Python 3.10.2 64-bit",
   "language": "python",
   "name": "python3"
  },
  "language_info": {
   "name": "python",
   "version": "3.10.3"
  },
  "orig_nbformat": 4
 },
 "nbformat": 4,
 "nbformat_minor": 2
}
